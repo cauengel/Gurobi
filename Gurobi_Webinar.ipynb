{
  "nbformat": 4,
  "nbformat_minor": 0,
  "metadata": {
    "colab": {
      "name": "Gurobi Webinar.ipynb",
      "version": "0.3.2",
      "provenance": [],
      "collapsed_sections": [],
      "include_colab_link": true
    },
    "language_info": {
      "codemirror_mode": {
        "name": "ipython",
        "version": 3
      },
      "file_extension": ".py",
      "mimetype": "text/x-python",
      "name": "python",
      "nbconvert_exporter": "python",
      "pygments_lexer": "ipython3",
      "version": "3.6.6"
    },
    "kernelspec": {
      "display_name": "Python 3",
      "language": "python",
      "name": "python3"
    }
  },
  "cells": [
    {
      "cell_type": "markdown",
      "metadata": {
        "id": "view-in-github",
        "colab_type": "text"
      },
      "source": [
        "<a href=\"https://colab.research.google.com/github/cauengel/Gurobi/blob/master/Gurobi_Webinar.ipynb\" target=\"_parent\"><img src=\"https://colab.research.google.com/assets/colab-badge.svg\" alt=\"Open In Colab\"/></a>"
      ]
    },
    {
      "cell_type": "markdown",
      "metadata": {
        "colab_type": "text",
        "id": "34z9XYces1jO"
      },
      "source": [
        "# Six Life Lessons You Didn't Learn from your OR Program\n",
        "\n",
        "<font size=5>\n",
        "\"We'll bring a CS and Business element\"\n",
        "\n",
        "  </font>\n",
        "\n",
        "\n"
      ]
    },
    {
      "cell_type": "markdown",
      "metadata": {
        "id": "c3aLuJM5f3cq",
        "colab_type": "text"
      },
      "source": [
        "[Gurobi Webinar - Youtube](https://youtu.be/yWZ-2Zec1bc)\n",
        "\n",
        "You can download the materials associated with this webinar [here](http://www.gurobi.com/pdfs/webinars/gurobi_6_lessons_opex.pdf).\n",
        "\n",
        "*All rights belong to Gurobi*"
      ]
    },
    {
      "cell_type": "markdown",
      "metadata": {
        "colab_type": "text",
        "id": "K_R0DbqBIRbN"
      },
      "source": [
        "# Interfaces\n",
        "\n",
        "---\n",
        "\n",
        "![alt text](https://i.ibb.co/DWfXn0r/img2.png)"
      ]
    },
    {
      "cell_type": "markdown",
      "metadata": {
        "colab_type": "text",
        "id": "hYBiONd5NFTC"
      },
      "source": [
        "# Input Data\n",
        "\n",
        "---\n",
        "\n",
        "![alt text](https://i.ibb.co/3p4dmF3/img3.png)"
      ]
    },
    {
      "cell_type": "markdown",
      "metadata": {
        "id": "F7o_-HqbkFOX",
        "colab_type": "text"
      },
      "source": [
        "# Parameters\n",
        "\n",
        "---\n",
        "\n",
        "![alt text](https://i.ibb.co/10G0b77/img4.png)"
      ]
    },
    {
      "cell_type": "markdown",
      "metadata": {
        "id": "gdGIvmyMkiyj",
        "colab_type": "text"
      },
      "source": [
        "# Output\n",
        "\n",
        "---\n",
        "\n",
        "![alt text](https://i.ibb.co/SvFHgBw/img5.png)"
      ]
    },
    {
      "cell_type": "markdown",
      "metadata": {
        "id": "seBAq8F6klqI",
        "colab_type": "text"
      },
      "source": [
        "# Simplicity / Clean Design\n",
        "\n",
        "---\n",
        "\n",
        "![alt text](https://i.ibb.co/RYjXVkc/img7.png)"
      ]
    },
    {
      "cell_type": "markdown",
      "metadata": {
        "id": "jiibIWzBknm5",
        "colab_type": "text"
      },
      "source": [
        "## \"If You're Not Embarrassed By The First Version Of Your Product, You’ve Launched Too Late\" - Reid Hoffman\n",
        "\n",
        "\n",
        "![alt text](https://i.ibb.co/ykZb08L/img8.png)"
      ]
    },
    {
      "cell_type": "markdown",
      "metadata": {
        "id": "h-4B5UNdmYv0",
        "colab_type": "text"
      },
      "source": [
        "# **Lesson #1 Don't Let Users Get Themselves in Trouble**\n",
        "### Their trouble becomes your trouble"
      ]
    },
    {
      "cell_type": "markdown",
      "metadata": {
        "id": "lRFMbyjjkppf",
        "colab_type": "text"
      },
      "source": [
        "# Example: Parameter X (1/2)\n",
        "\n",
        "---\n",
        "\n",
        "![alt text](https://i.ibb.co/Db7t898/img11.png)"
      ]
    },
    {
      "cell_type": "markdown",
      "metadata": {
        "id": "LS22Z0Mj8-9U",
        "colab_type": "text"
      },
      "source": [
        "# Example: Parameter X (2/2)\n",
        "\n",
        "---\n",
        "\n",
        "![alt text](https://i.ibb.co/X3ywrnB/img30.png)"
      ]
    },
    {
      "cell_type": "markdown",
      "metadata": {
        "id": "TTaEd7g9kwGF",
        "colab_type": "text"
      },
      "source": [
        "![alt text](https://i.ibb.co/DGJGtgt/img13.png)"
      ]
    },
    {
      "cell_type": "markdown",
      "metadata": {
        "id": "kY-9IY5przzC",
        "colab_type": "text"
      },
      "source": [
        "# **Lesson #2 Be Prepared (Not Proactive) to Become Fast**"
      ]
    },
    {
      "cell_type": "markdown",
      "metadata": {
        "id": "RaObVqzZkyNf",
        "colab_type": "text"
      },
      "source": [
        "# Pareto\n",
        "\n",
        "---\n",
        "\n",
        "![alt text](https://i.ibb.co/fDs0YNv/img16.png)"
      ]
    },
    {
      "cell_type": "markdown",
      "metadata": {
        "id": "1LSNZIc6k0cW",
        "colab_type": "text"
      },
      "source": [
        "![alt text](https://i.ibb.co/BcSwS9h/img17.png)"
      ]
    },
    {
      "cell_type": "markdown",
      "metadata": {
        "id": "qrgHyeeFk2Uf",
        "colab_type": "text"
      },
      "source": [
        "# Be Prepared\n",
        "\n",
        "---\n",
        "\n",
        "![alt text](https://i.ibb.co/GvnYc0y/img18.png)"
      ]
    },
    {
      "cell_type": "markdown",
      "metadata": {
        "id": "E_9xybpck4Mz",
        "colab_type": "text"
      },
      "source": [
        "![alt text](https://i.ibb.co/5BXq1kP/img19.png)"
      ]
    },
    {
      "cell_type": "markdown",
      "metadata": {
        "id": "XW7ov1NyszKv",
        "colab_type": "text"
      },
      "source": [
        "# **Lesson #3 Be Preactive with Bugs**"
      ]
    },
    {
      "cell_type": "markdown",
      "metadata": {
        "id": "nPVzvvhtk6Ap",
        "colab_type": "text"
      },
      "source": [
        "![alt text](https://i.ibb.co/Y80sCTn/img21.png)"
      ]
    },
    {
      "cell_type": "markdown",
      "metadata": {
        "id": "67I4c2lgtqk1",
        "colab_type": "text"
      },
      "source": [
        "# **Lesson #4 Be Paranoid About Solver Failures**\n",
        "### Users hate infeasibility but they appreciate insights"
      ]
    },
    {
      "cell_type": "markdown",
      "metadata": {
        "id": "If_BDlYfk7iO",
        "colab_type": "text"
      },
      "source": [
        "# Proactive and Be Prepared\n",
        "\n",
        "---\n",
        "\n",
        "![alt text](https://i.ibb.co/7Kkk1VH/img23.png)"
      ]
    },
    {
      "cell_type": "markdown",
      "metadata": {
        "id": "nCtzdNrJk87s",
        "colab_type": "text"
      },
      "source": [
        "# Data Cleansing\n",
        "\n",
        "---\n",
        "\n",
        "![alt text](https://i.ibb.co/Bc7YDTP/img24.png)"
      ]
    },
    {
      "cell_type": "markdown",
      "metadata": {
        "id": "_tyTCLgPvc5O",
        "colab_type": "text"
      },
      "source": [
        "# Infeasibility\n",
        "\n",
        "---\n",
        "\n",
        "![alt text](https://i.ibb.co/1vwbVrs/img25.png)"
      ]
    },
    {
      "cell_type": "markdown",
      "metadata": {
        "id": "KPcW12rO2JhQ",
        "colab_type": "text"
      },
      "source": [
        "# **Lesson #5 You Will Be Swimming in Data**"
      ]
    },
    {
      "cell_type": "markdown",
      "metadata": {
        "id": "DlxQjq_S2ltB",
        "colab_type": "text"
      },
      "source": [
        "![alt text](https://i.ibb.co/1LTKDMV/img27.png)"
      ]
    },
    {
      "cell_type": "markdown",
      "metadata": {
        "id": "7G242yis3WBR",
        "colab_type": "text"
      },
      "source": [
        "# **Lesson #6 Take advantage of modern tools and don't be afraid to migrate to new ones**"
      ]
    },
    {
      "cell_type": "markdown",
      "metadata": {
        "id": "sRDMAgRa28Tn",
        "colab_type": "text"
      },
      "source": [
        "# The Right Tools\n",
        "\n",
        "---\n",
        "\n",
        "![alt text](https://i.ibb.co/54M9pKj/img29.png)"
      ]
    },
    {
      "cell_type": "code",
      "metadata": {
        "id": "K5fAXauKUDCS",
        "colab_type": "code",
        "outputId": "c2756903-72a4-4d6e-ef6c-38e2a985986b",
        "colab": {
          "base_uri": "https://localhost:8080/",
          "height": 51
        }
      },
      "source": [
        "!ls"
      ],
      "execution_count": 1,
      "outputs": [
        {
          "output_type": "stream",
          "text": [
            "bin\t\t\t     gurobi-8.1.1-py36_0.tar.bz2.1  info  sample_data\n",
            "gurobi-8.1.1-py36_0.tar.bz2  gurobi.log\t\t\t    lib   share\n"
          ],
          "name": "stdout"
        }
      ]
    },
    {
      "cell_type": "code",
      "metadata": {
        "id": "tjGKifrPRbeu",
        "colab_type": "code",
        "colab": {}
      },
      "source": [
        "!wget -q https://anaconda.org/Gurobi/gurobi/8.1.1/download/linux-64/gurobi-8.1.1-py36_0.tar.bz2\n",
        "!tar xjf gurobi-8.1.1-py36_0.tar.bz2\n",
        "!cp -r lib/python3.6/site-packages/* /usr/local/lib/python3.6/dist-packages/\n",
        "!cp -r lib/libgurobi81.so /usr/local/lib/"
      ],
      "execution_count": 0,
      "outputs": []
    },
    {
      "cell_type": "code",
      "metadata": {
        "id": "9xKGljw8fA2Q",
        "colab_type": "code",
        "colab": {}
      },
      "source": [
        "import math\n",
        "import random\n",
        "from gurobipy import *"
      ],
      "execution_count": 0,
      "outputs": []
    },
    {
      "cell_type": "code",
      "metadata": {
        "id": "oFlTzBt_fOBk",
        "colab_type": "code",
        "colab": {}
      },
      "source": [
        "# Callback - use lazy constraints to eliminate sub-tours\n",
        "\n",
        "def subtourelim(model, where):\n",
        "  if where == GRB.callback.MIPSOL:\n",
        "    selected = []\n",
        "    # make a list of edges selected in the solution\n",
        "    for i in range(n):\n",
        "      sol = model.cbGetSolution([model._vars[i,j] for j in range(n)])\n",
        "      selected += [(i,j) for j in range(n) if sol[j] > 0.5]\n",
        "    # find the shortest cycle in the selected edge list\n",
        "    tour = subtour(selected)\n",
        "    if len(tour) < n:\n",
        "      # add a subtour elimination constraint\n",
        "      expr = 0\n",
        "      for i in range(len(tour)):\n",
        "        for j in range(i+1, len(tour)):\n",
        "          expr += model._vars[tour[i], tour[j]]\n",
        "      model.cbLazy(expr <= len(tour)-1)"
      ],
      "execution_count": 0,
      "outputs": []
    },
    {
      "cell_type": "code",
      "metadata": {
        "id": "-qwjW1uNfRKG",
        "colab_type": "code",
        "colab": {}
      },
      "source": [
        "# Euclidean distance between two points\n",
        "\n",
        "def distance(points, i, j):\n",
        "  dx = points[i][0] - points[j][0]\n",
        "  dy = points[i][1] - points[j][1]\n",
        "  return math.sqrt(dx*dx + dy*dy)"
      ],
      "execution_count": 0,
      "outputs": []
    },
    {
      "cell_type": "code",
      "metadata": {
        "id": "56fRnk-NfTLR",
        "colab_type": "code",
        "colab": {}
      },
      "source": [
        "# Given a list of edges, finds the shortest subtour\n",
        "\n",
        "def subtour(edges):\n",
        "  visited = [False]*n\n",
        "  cycles = []\n",
        "  lengths = []\n",
        "  selected = [[] for i in range(n)]\n",
        "  for x,y in edges:\n",
        "    selected[x].append(y)\n",
        "  while True:\n",
        "    current = visited.index(False)\n",
        "    thiscycle = [current]\n",
        "    while True:\n",
        "      visited[current] = True\n",
        "      neighbors = [x for x in selected[current] if not visited[x]]\n",
        "      if len(neighbors) == 0:\n",
        "        break\n",
        "      current = neighbors[0]\n",
        "      thiscycle.append(current)\n",
        "    cycles.append(thiscycle)\n",
        "    lengths.append(len(thiscycle))\n",
        "    if sum(lengths) == n:\n",
        "      break\n",
        "  return cycles[lengths.index(min(lengths))]\n",
        "\n",
        "n = 50"
      ],
      "execution_count": 0,
      "outputs": []
    },
    {
      "cell_type": "code",
      "metadata": {
        "id": "55HqLVQnfWsO",
        "colab_type": "code",
        "colab": {}
      },
      "source": [
        "# Create n random points\n",
        "\n",
        "random.seed(1)\n",
        "points = []\n",
        "for i in range(n):\n",
        "  points.append((random.randint(0,100),random.randint(0,100)))"
      ],
      "execution_count": 0,
      "outputs": []
    },
    {
      "cell_type": "code",
      "metadata": {
        "id": "vqJrljllffFN",
        "colab_type": "code",
        "colab": {}
      },
      "source": [
        "m = Model()\n",
        "\n",
        "# Create variables\n",
        "\n",
        "vars = {}\n",
        "for i in range(n):\n",
        "   for j in range(i+1):\n",
        "     vars[i,j] = m.addVar(obj=distance(points, i, j), vtype=GRB.BINARY,\n",
        "                          name='e'+str(i)+'_'+str(j))\n",
        "     vars[j,i] = vars[i,j]\n",
        "   m.update()"
      ],
      "execution_count": 0,
      "outputs": []
    },
    {
      "cell_type": "code",
      "metadata": {
        "id": "1x48ZGTtfkk7",
        "colab_type": "code",
        "colab": {}
      },
      "source": [
        "# Add degree-2 constraint, and forbid loops\n",
        "\n",
        "for i in range(n):\n",
        "  m.addConstr(quicksum(vars[i,j] for j in range(n)) == 2)\n",
        "  vars[i,i].ub = 0\n",
        "\n",
        "m.update()"
      ],
      "execution_count": 0,
      "outputs": []
    },
    {
      "cell_type": "code",
      "metadata": {
        "id": "UzNG03Q6fo_x",
        "colab_type": "code",
        "colab": {}
      },
      "source": [
        "# Optimize model\n",
        "\n",
        "m._vars = vars\n",
        "m.params.LazyConstraints = 1\n",
        "m.optimize(subtourelim)\n",
        "\n",
        "solution = m.getAttr('x', vars)\n",
        "selected = [(i,j) for i in range(n) for j in range(n) if solution[i,j] > 0.5]\n",
        "assert len(subtour(selected)) == n"
      ],
      "execution_count": 0,
      "outputs": []
    }
  ]
}