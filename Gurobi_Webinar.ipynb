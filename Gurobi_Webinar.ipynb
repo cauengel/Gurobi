{
  "nbformat": 4,
  "nbformat_minor": 0,
  "metadata": {
    "colab": {
      "name": "Gurobi_Webinar.ipynb",
      "version": "0.3.2",
      "provenance": [],
      "collapsed_sections": [],
      "include_colab_link": true
    },
    "language_info": {
      "codemirror_mode": {
        "name": "ipython",
        "version": 3
      },
      "file_extension": ".py",
      "mimetype": "text/x-python",
      "name": "python",
      "nbconvert_exporter": "python",
      "pygments_lexer": "ipython3",
      "version": "3.6.8"
    },
    "kernelspec": {
      "display_name": "Python 3",
      "language": "python",
      "name": "python3"
    }
  },
  "cells": [
    {
      "cell_type": "markdown",
      "metadata": {
        "id": "view-in-github",
        "colab_type": "text"
      },
      "source": [
        "<a href=\"https://colab.research.google.com/github/cauengel/Gurobi/blob/master/Gurobi_Webinar.ipynb\" target=\"_parent\"><img src=\"https://colab.research.google.com/assets/colab-badge.svg\" alt=\"Open In Colab\"/></a>"
      ]
    },
    {
      "cell_type": "markdown",
      "metadata": {
        "colab_type": "text",
        "id": "34z9XYces1jO"
      },
      "source": [
        "# Six Life Lessons You Didn't Learn from your OR Program\n",
        "\n",
        "<font size=5>\n",
        "\"We'll bring a CS and Business element\"\n",
        "\n",
        "  </font>\n",
        "\n",
        "\n"
      ]
    },
    {
      "cell_type": "code",
      "metadata": {
        "colab_type": "code",
        "outputId": "f4af5259-3666-4c61-f9ef-b6ffc499e7b4",
        "id": "R8tYEzSoUTXs",
        "colab": {
          "base_uri": "https://localhost:8080/",
          "height": 321
        }
      },
      "source": [
        "from IPython.display import YouTubeVideo\n",
        "YouTubeVideo('yWZ-2Zec1bc') "
      ],
      "execution_count": 0,
      "outputs": [
        {
          "output_type": "execute_result",
          "data": {
            "text/html": [
              "\n",
              "        <iframe\n",
              "            width=\"400\"\n",
              "            height=\"300\"\n",
              "            src=\"https://www.youtube.com/embed/yWZ-2Zec1bc\"\n",
              "            frameborder=\"0\"\n",
              "            allowfullscreen\n",
              "        ></iframe>\n",
              "        "
            ],
            "text/plain": [
              "<IPython.lib.display.YouTubeVideo at 0x7f2f71acca20>"
            ],
            "image/jpeg": "[encoded data removed]"
          },
          "metadata": {
            "tags": []
          },
          "execution_count": 3
        }
      ]
    },
    {
      "cell_type": "markdown",
      "metadata": {
        "colab_type": "text",
        "id": "c3aLuJM5f3cq"
      },
      "source": [
        "You can download the materials associated with this webinar [here](http://www.gurobi.com/pdfs/webinars/gurobi_6_lessons_opex.pdf).\n",
        "\n",
        "*All rights belong to Gurobi*"
      ]
    },
    {
      "cell_type": "markdown",
      "metadata": {
        "colab_type": "text",
        "id": "K_R0DbqBIRbN"
      },
      "source": [
        "# Interfaces\n",
        "\n",
        "---\n",
        "\n",
        "![alt text](https://i.ibb.co/DWfXn0r/img2.png)"
      ]
    },
    {
      "cell_type": "markdown",
      "metadata": {
        "colab_type": "text",
        "id": "hYBiONd5NFTC"
      },
      "source": [
        "# Input Data\n",
        "\n",
        "---\n",
        "\n",
        "![alt text](https://i.ibb.co/3p4dmF3/img3.png)"
      ]
    },
    {
      "cell_type": "markdown",
      "metadata": {
        "colab_type": "text",
        "id": "F7o_-HqbkFOX"
      },
      "source": [
        "# Parameters\n",
        "\n",
        "---\n",
        "\n",
        "![alt text](https://i.ibb.co/10G0b77/img4.png)"
      ]
    },
    {
      "cell_type": "markdown",
      "metadata": {
        "colab_type": "text",
        "id": "gdGIvmyMkiyj"
      },
      "source": [
        "# Output\n",
        "\n",
        "---\n",
        "\n",
        "![alt text](https://i.ibb.co/SvFHgBw/img5.png)"
      ]
    },
    {
      "cell_type": "markdown",
      "metadata": {
        "colab_type": "text",
        "id": "seBAq8F6klqI"
      },
      "source": [
        "# Simplicity / Clean Design\n",
        "\n",
        "---\n",
        "\n",
        "![alt text](https://i.ibb.co/RYjXVkc/img7.png)"
      ]
    },
    {
      "cell_type": "markdown",
      "metadata": {
        "colab_type": "text",
        "id": "jiibIWzBknm5"
      },
      "source": [
        "## \"If You're Not Embarrassed By The First Version Of Your Product, You’ve Launched Too Late\" - Reid Hoffman\n",
        "\n",
        "\n",
        "![alt text](https://i.ibb.co/ykZb08L/img8.png)"
      ]
    },
    {
      "cell_type": "markdown",
      "metadata": {
        "colab_type": "text",
        "id": "h-4B5UNdmYv0"
      },
      "source": [
        "# **Lesson #1 Don't Let Users Get Themselves in Trouble**\n",
        "### Their trouble becomes your trouble"
      ]
    },
    {
      "cell_type": "markdown",
      "metadata": {
        "colab_type": "text",
        "id": "lRFMbyjjkppf"
      },
      "source": [
        "# Example: Parameter X (1/2)\n",
        "\n",
        "---\n",
        "\n",
        "![alt text](https://i.ibb.co/Db7t898/img11.png)"
      ]
    },
    {
      "cell_type": "markdown",
      "metadata": {
        "colab_type": "text",
        "id": "LS22Z0Mj8-9U"
      },
      "source": [
        "# Example: Parameter X (2/2)\n",
        "\n",
        "---\n",
        "\n",
        "![alt text](https://i.ibb.co/X3ywrnB/img30.png)"
      ]
    },
    {
      "cell_type": "markdown",
      "metadata": {
        "colab_type": "text",
        "id": "TTaEd7g9kwGF"
      },
      "source": [
        "![alt text](https://i.ibb.co/DGJGtgt/img13.png)"
      ]
    },
    {
      "cell_type": "markdown",
      "metadata": {
        "colab_type": "text",
        "id": "kY-9IY5przzC"
      },
      "source": [
        "# **Lesson #2 Be Prepared (Not Proactive) to Become Fast**"
      ]
    },
    {
      "cell_type": "markdown",
      "metadata": {
        "colab_type": "text",
        "id": "RaObVqzZkyNf"
      },
      "source": [
        "# Pareto\n",
        "\n",
        "---\n",
        "\n",
        "![alt text](https://i.ibb.co/fDs0YNv/img16.png)"
      ]
    },
    {
      "cell_type": "markdown",
      "metadata": {
        "colab_type": "text",
        "id": "1LSNZIc6k0cW"
      },
      "source": [
        "![alt text](https://i.ibb.co/BcSwS9h/img17.png)"
      ]
    },
    {
      "cell_type": "markdown",
      "metadata": {
        "colab_type": "text",
        "id": "XW7ov1NyszKv"
      },
      "source": [
        "# **Lesson #3 Be Preactive with Bugs**"
      ]
    },
    {
      "cell_type": "markdown",
      "metadata": {
        "colab_type": "text",
        "id": "nPVzvvhtk6Ap"
      },
      "source": [
        "![alt text](https://i.ibb.co/Y80sCTn/img21.png)"
      ]
    },
    {
      "cell_type": "markdown",
      "metadata": {
        "colab_type": "text",
        "id": "67I4c2lgtqk1"
      },
      "source": [
        "# **Lesson #4 Be Paranoid About Solver Failures**\n",
        "### Users hate infeasibility but they appreciate insights"
      ]
    },
    {
      "cell_type": "markdown",
      "metadata": {
        "colab_type": "text",
        "id": "If_BDlYfk7iO"
      },
      "source": [
        "# Be Proactive and Be Prepared\n",
        "\n",
        "---\n",
        "\n",
        "![alt text](https://i.ibb.co/7Kkk1VH/img23.png)"
      ]
    },
    {
      "cell_type": "markdown",
      "metadata": {
        "colab_type": "text",
        "id": "nCtzdNrJk87s"
      },
      "source": [
        "# Data Cleansing\n",
        "\n",
        "---\n",
        "\n",
        "![alt text](https://i.ibb.co/Bc7YDTP/img24.png)"
      ]
    },
    {
      "cell_type": "markdown",
      "metadata": {
        "colab_type": "text",
        "id": "_tyTCLgPvc5O"
      },
      "source": [
        "# Infeasibility\n",
        "\n",
        "---\n",
        "\n",
        "![alt text](https://i.ibb.co/1vwbVrs/img25.png)"
      ]
    },
    {
      "cell_type": "markdown",
      "metadata": {
        "colab_type": "text",
        "id": "KPcW12rO2JhQ"
      },
      "source": [
        "# **Lesson #5 You Will Be Swimming in Data**"
      ]
    },
    {
      "cell_type": "markdown",
      "metadata": {
        "colab_type": "text",
        "id": "DlxQjq_S2ltB"
      },
      "source": [
        "![alt text](https://i.ibb.co/1LTKDMV/img27.png)"
      ]
    },
    {
      "cell_type": "markdown",
      "metadata": {
        "colab_type": "text",
        "id": "7G242yis3WBR"
      },
      "source": [
        "# **Lesson #6 Take advantage of modern tools and don't be afraid to migrate to new ones**"
      ]
    },
    {
      "cell_type": "markdown",
      "metadata": {
        "colab_type": "text",
        "id": "sRDMAgRa28Tn"
      },
      "source": [
        "# The Right Tools\n",
        "\n",
        "---\n",
        "\n",
        "![alt text](https://i.ibb.co/54M9pKj/img29.png)"
      ]
    },
    {
      "cell_type": "code",
      "metadata": {
        "id": "8kb2dGeSnAtM",
        "colab_type": "code",
        "colab": {}
      },
      "source": [
        "!wget -q https://anaconda.org/Gurobi/gurobi/8.1.1/download/linux-64/gurobi-8.1.1-py36_0.tar.bz2\n",
        "!tar xjf gurobi-8.1.1-py36_0.tar.bz2\n",
        "!cp -r lib/python3.6/site-packages/* /usr/local/lib/python3.6/dist-packages/\n",
        "!cp -r lib/libgurobi81.so /usr/local/lib/"
      ],
      "execution_count": 0,
      "outputs": []
    },
    {
      "cell_type": "code",
      "metadata": {
        "colab_type": "code",
        "id": "9xKGljw8fA2Q",
        "colab": {}
      },
      "source": [
        "import math\n",
        "import random\n",
        "from gurobipy import *"
      ],
      "execution_count": 0,
      "outputs": []
    },
    {
      "cell_type": "code",
      "metadata": {
        "colab_type": "code",
        "id": "oFlTzBt_fOBk",
        "colab": {}
      },
      "source": [
        "# Callback - use lazy constraints to eliminate sub-tours\n",
        "\n",
        "def subtourelim(model, where):\n",
        "  if where == GRB.callback.MIPSOL:\n",
        "    selected = []\n",
        "    # make a list of edges selected in the solution\n",
        "    for i in range(n):\n",
        "      sol = model.cbGetSolution([model._vars[i,j] for j in range(n)])\n",
        "      selected += [(i,j) for j in range(n) if sol[j] > 0.5]\n",
        "    # find the shortest cycle in the selected edge list\n",
        "    tour = subtour(selected)\n",
        "    if len(tour) < n:\n",
        "      # add a subtour elimination constraint\n",
        "      expr = 0\n",
        "      for i in range(len(tour)):\n",
        "        for j in range(i+1, len(tour)):\n",
        "          expr += model._vars[tour[i], tour[j]]\n",
        "      model.cbLazy(expr <= len(tour)-1)"
      ],
      "execution_count": 0,
      "outputs": []
    },
    {
      "cell_type": "code",
      "metadata": {
        "colab_type": "code",
        "id": "-qwjW1uNfRKG",
        "colab": {}
      },
      "source": [
        "# Euclidean distance between two points\n",
        "\n",
        "def distance(points, i, j):\n",
        "  dx = points[i][0] - points[j][0]\n",
        "  dy = points[i][1] - points[j][1]\n",
        "  return math.sqrt(dx*dx + dy*dy)"
      ],
      "execution_count": 0,
      "outputs": []
    },
    {
      "cell_type": "code",
      "metadata": {
        "colab_type": "code",
        "id": "56fRnk-NfTLR",
        "colab": {}
      },
      "source": [
        "# Given a list of edges, finds the shortest subtour\n",
        "\n",
        "def subtour(edges):\n",
        "  visited = [False]*n\n",
        "  cycles = []\n",
        "  lengths = []\n",
        "  selected = [[] for i in range(n)]\n",
        "  for x,y in edges:\n",
        "    selected[x].append(y)\n",
        "  while True:\n",
        "    current = visited.index(False)\n",
        "    thiscycle = [current]\n",
        "    while True:\n",
        "      visited[current] = True\n",
        "      neighbors = [x for x in selected[current] if not visited[x]]\n",
        "      if len(neighbors) == 0:\n",
        "        break\n",
        "      current = neighbors[0]\n",
        "      thiscycle.append(current)\n",
        "    cycles.append(thiscycle)\n",
        "    lengths.append(len(thiscycle))\n",
        "    if sum(lengths) == n:\n",
        "      break\n",
        "  return cycles[lengths.index(min(lengths))]\n",
        "\n",
        "n = 50"
      ],
      "execution_count": 0,
      "outputs": []
    },
    {
      "cell_type": "code",
      "metadata": {
        "colab_type": "code",
        "id": "55HqLVQnfWsO",
        "colab": {}
      },
      "source": [
        "# Create n random points\n",
        "\n",
        "random.seed(1)\n",
        "points = []\n",
        "for i in range(n):\n",
        "  points.append((random.randint(0,100),random.randint(0,100)))"
      ],
      "execution_count": 0,
      "outputs": []
    },
    {
      "cell_type": "code",
      "metadata": {
        "colab_type": "code",
        "id": "vqJrljllffFN",
        "outputId": "44787cf0-82d5-435b-cf1e-966164a911bb",
        "colab": {}
      },
      "source": [
        "m = Model()\n",
        "\n",
        "# Create variables\n",
        "\n",
        "vars = {}\n",
        "for i in range(n):\n",
        "   for j in range(i+1):\n",
        "     vars[i,j] = m.addVar(obj=distance(points, i, j), vtype=GRB.BINARY,\n",
        "                          name='e'+str(i)+'_'+str(j))\n",
        "     vars[j,i] = vars[i,j]\n",
        "   m.update()"
      ],
      "execution_count": 0,
      "outputs": [
        {
          "output_type": "stream",
          "text": [
            "Academic license - for non-commercial use only\n"
          ],
          "name": "stdout"
        }
      ]
    },
    {
      "cell_type": "code",
      "metadata": {
        "colab_type": "code",
        "id": "1x48ZGTtfkk7",
        "colab": {}
      },
      "source": [
        "# Add degree-2 constraint, and forbid loops\n",
        "\n",
        "for i in range(n):\n",
        "  m.addConstr(quicksum(vars[i,j] for j in range(n)) == 2)\n",
        "  vars[i,i].ub = 0\n",
        "\n",
        "m.update()"
      ],
      "execution_count": 0,
      "outputs": []
    },
    {
      "cell_type": "code",
      "metadata": {
        "colab_type": "code",
        "id": "UzNG03Q6fo_x",
        "outputId": "39bbcb60-ab5f-4e07-ee17-dd7673e750a8",
        "colab": {}
      },
      "source": [
        "# Optimize model\n",
        "\n",
        "m._vars = vars\n",
        "m.params.LazyConstraints = 1\n",
        "m.optimize(subtourelim)\n",
        "\n",
        "solution = m.getAttr('x', vars)\n",
        "selected = [(i,j) for i in range(n) for j in range(n) if solution[i,j] > 0.5]\n",
        "assert len(subtour(selected)) == n"
      ],
      "execution_count": 0,
      "outputs": [
        {
          "output_type": "stream",
          "text": [
            "Changed value of parameter LazyConstraints to 1\n",
            "   Prev: 0  Min: 0  Max: 1  Default: 0\n",
            "Optimize a model with 50 rows, 1275 columns and 2500 nonzeros\n",
            "Variable types: 0 continuous, 1275 integer (1275 binary)\n",
            "Coefficient statistics:\n",
            "  Matrix range     [1e+00, 1e+00]\n",
            "  Objective range  [1e+00, 1e+02]\n",
            "  Bounds range     [1e+00, 1e+00]\n",
            "  RHS range        [2e+00, 2e+00]\n",
            "Found heuristic solution: objective 2775.3416544\n",
            "Presolve removed 0 rows and 50 columns\n",
            "Presolve time: 0.00s\n",
            "Presolved: 50 rows, 1225 columns, 2450 nonzeros\n",
            "Variable types: 0 continuous, 1225 integer (1225 binary)\n",
            "\n",
            "Root relaxation: objective 5.981996e+02, 71 iterations, 0.00 seconds\n",
            "\n",
            "    Nodes    |    Current Node    |     Objective Bounds      |     Work\n",
            " Expl Unexpl |  Obj  Depth IntInf | Incumbent    BestBd   Gap | It/Node Time\n",
            "\n",
            "     0     0  598.19961    0    6 2775.34165  598.19961  78.4%     -    0s\n",
            "H    0     0                     784.5828097  598.19961  23.8%     -    0s\n",
            "     0     0  626.69891    0    6  784.58281  626.69891  20.1%     -    0s\n",
            "     0     0  628.53542    0    6  784.58281  628.53542  19.9%     -    0s\n",
            "H    0     0                     680.9299140  628.53542  7.69%     -    0s\n",
            "     0     0  628.66176    0   15  680.92991  628.66176  7.68%     -    0s\n",
            "     0     0  628.66176    0    6  680.92991  628.66176  7.68%     -    0s\n",
            "H    0     0                     662.1920386  628.66176  5.06%     -    0s\n",
            "     0     0  628.66176    0    6  662.19204  628.66176  5.06%     -    0s\n",
            "     0     0  628.66176    0    6  662.19204  628.66176  5.06%     -    0s\n",
            "     0     0  629.19735    0   12  662.19204  629.19735  4.98%     -    0s\n",
            "H    0     0                     655.7181587  629.19735  4.04%     -    0s\n",
            "     0     0  631.46794    0   30  655.71816  631.46794  3.70%     -    0s\n",
            "     0     0  631.64115    0   28  655.71816  631.64115  3.67%     -    0s\n",
            "     0     0  631.64115    0    6  655.71816  631.64115  3.67%     -    0s\n",
            "     0     0  631.64115    0   28  655.71816  631.64115  3.67%     -    0s\n",
            "     0     0  632.33057    0   24  655.71816  632.33057  3.57%     -    0s\n",
            "     0     0  632.40257    0   30  655.71816  632.40257  3.56%     -    0s\n",
            "     0     0  632.40257    0   30  655.71816  632.40257  3.56%     -    0s\n",
            "     0     2  632.40257    0   30  655.71816  632.40257  3.56%     -    0s\n",
            "*   12    10               4     640.4797064  634.58336  0.92%   5.7    0s\n",
            "H   17     4                     635.5025788  634.83489  0.11%   4.5    0s\n",
            "\n",
            "Cutting planes:\n",
            "  Gomory: 3\n",
            "  MIR: 1\n",
            "  Zero half: 8\n",
            "  Lazy constraints: 8\n",
            "\n",
            "Explored 22 nodes (494 simplex iterations) in 0.26 seconds\n",
            "Thread count was 8 (of 8 available processors)\n",
            "\n",
            "Solution count 7: 635.503 640.48 655.718 ... 2775.34\n",
            "\n",
            "Optimal solution found (tolerance 1.00e-04)\n",
            "Best objective 6.355025787588e+02, best bound 6.355025787588e+02, gap 0.0000%\n"
          ],
          "name": "stdout"
        }
      ]
    },
    {
      "cell_type": "markdown",
      "metadata": {
        "id": "tc2SvVeamslD",
        "colab_type": "text"
      },
      "source": [
        "# The Traveling Salesman Problem  [TSP Interactive](http://examples.gurobi.com/traveling-salesman-problem)"
      ]
    }
  ]
}